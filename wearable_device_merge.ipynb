{
 "cells": [
  {
   "cell_type": "code",
   "execution_count": null,
   "metadata": {},
   "outputs": [],
   "source": [
    "import pandas as pd\n",
    "import numpy as np\n",
    "import datetime\n",
    "import os\n",
    "import csv\n",
    "pid_list = os.listdir('ICU20200206_date/')\n",
    "\n",
    "for pid in pid_list:\n",
    "    if 'check' not in pid:\n",
    "        df = pd.read_csv('ICU20200206_date/' + pid, header = None)\n",
    "        df = df.drop(0)\n",
    "        df[1] = [datetime.datetime.strptime(i, '%Y/%m/%d') for i in df[1].values]\n",
    "        df[2] = [datetime.datetime.strptime(i, '%H:%M:%S').time() for i in df[2].values]\n",
    "        os.mkdir('ICU20200206_plot/' + pid[:4])\n",
    "\n",
    "        date_list = list(dict.fromkeys(df[1].values))\n",
    "        hour_list = np.arange(8,19) \n",
    "        for d_idx in range(len(date_list)):\n",
    "            date = df[1].values\n",
    "            d_filter = (date>=date_list[d_idx])&(date<(date_list[d_idx]+np.timedelta64(1,'D')))\n",
    "            time_zone = 'From '+np.datetime_as_string(date_list[d_idx], unit = 'D')+' to '+np.datetime_as_string(date_list[d_idx]+np.timedelta64(1,'D'), unit = 'D')\n",
    "\n",
    "            data = (df[4].values.astype('int'))[d_filter] #each date data\n",
    "            hour = (df[2].values)[d_filter] #each date each hour\n",
    "            data = [i/100 for i in data.astype('int')]\n",
    "            data = np.asarray(data)\n",
    "\n",
    "            each_hour = []\n",
    "            for h_idx in hour_list:\n",
    "                h_filter = (hour>=datetime.time(hour = h_idx))&(hour<datetime.time(hour = h_idx+1))\n",
    "                tmp = data[(h_filter)&(np.array(data)>25)&(np.array(data)<45)]\n",
    "\n",
    "                each_hour.append(tmp)\n",
    "\n",
    "            plt.figure(figsize = (10,5))\n",
    "            plt.plot(np.linspace(1,11,12), [35 for i in range(12)], 'g:')\n",
    "            plt.boxplot(each_hour, flierprops  = dict(markerfacecolor = 'b', marker = '.'))\n",
    "            plt.xticks(np.linspace(1,11,12), np.array(np.linspace(7,18,12), dtype = int))\n",
    "            plt.xlabel('Hours')\n",
    "            plt.ylabel('Temperature')\n",
    "            plt.suptitle(time_zone)\n",
    "            plt.savefig( 'ICU20200206_plot/' +  pid[:4] + '/' +  pid[:4] +' box plot '+time_zone+'.png', dpi = 300)\n",
    "#             plt.show()\n",
    "#     print(time_zone)\n"
   ]
  }
 ],
 "metadata": {
  "kernelspec": {
   "display_name": "Python 3",
   "language": "python",
   "name": "python3"
  },
  "language_info": {
   "codemirror_mode": {
    "name": "ipython",
    "version": 3
   },
   "file_extension": ".py",
   "mimetype": "text/x-python",
   "name": "python",
   "nbconvert_exporter": "python",
   "pygments_lexer": "ipython3",
   "version": "3.7.4"
  }
 },
 "nbformat": 4,
 "nbformat_minor": 2
}
